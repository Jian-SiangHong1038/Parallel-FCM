{
 "cells": [
  {
   "cell_type": "markdown",
   "metadata": {},
   "source": [
    "# Overview\n",
    "This notebook contrasts the average running time when applying a threshold function to an array in parallel or sequentially. This serves to answer the following questions: should the threshold function be applied in parallel or sequentially to the nodes of small Fuzzy Cognitive Maps?"
   ]
  },
  {
   "cell_type": "markdown",
   "metadata": {},
   "source": [
    "# Experimental set-up"
   ]
  },
  {
   "cell_type": "code",
   "execution_count": 1,
   "metadata": {
    "collapsed": false
   },
   "outputs": [],
   "source": [
    "from math import exp\n",
    "import multiprocessing as mp\n",
    "import time\n",
    "from copy import deepcopy\n",
    "import numpy as np"
   ]
  },
  {
   "cell_type": "code",
   "execution_count": 2,
   "metadata": {
    "collapsed": true
   },
   "outputs": [],
   "source": [
    "def transferFunction(element):\n",
    "    return (1/(1+exp(-element)))\n",
    "\n",
    "def mean(L):\n",
    "    return np.array(L).mean()"
   ]
  },
  {
   "cell_type": "code",
   "execution_count": 3,
   "metadata": {
    "collapsed": true
   },
   "outputs": [],
   "source": [
    "parTimeAve = [0]*501 #average time spent when doing it in parallel\n",
    "serialTimeAve = [0]*501 #average time spent when doing it in serial\n",
    "parVar=[0]*501#standard deviation\n",
    "serialVar=[0]*501"
   ]
  },
  {
   "cell_type": "code",
   "execution_count": 4,
   "metadata": {
    "collapsed": false
   },
   "outputs": [],
   "source": [
    "#given a number of factors n (e.g., 4), compute the time it takes to apply a threshold\n",
    "#function to an array of size n, averaged over 500 repeats.\n",
    "def runExperiments(n):\n",
    "    parTime = []\n",
    "    serialTime = []\n",
    "    pool = mp.Pool()\n",
    "    for i in range(0,500):\n",
    "        ex = np.random.random_sample(n,)#generates one random instance of n numbers\n",
    "        #parallel benchmark\n",
    "        sTime = time.time()\n",
    "        results = pool.map_async(transferFunction, ex)\n",
    "        #results = [pool.apply_async(transferFunction, (element,)) for element in ex]\n",
    "        #when ALL parallel processes are done with the array, THEN we take the time\n",
    "        #it's the time for the task to be fully done.\n",
    "        parTime.append(time.time() - sTime)\n",
    "        \n",
    "        #sequential benchmark\n",
    "        sTime = time.time()\n",
    "        results = map(transferFunction, ex)\n",
    "        serialTime.append(time.time()-sTime)\n",
    "        \n",
    "    parTimeAve[n]=mean(parTime)\n",
    "    parVar[n]=np.var(parTime)\n",
    "    serialTimeAve[n]=mean(serialTime)\n",
    "    serialVar[n]=np.var(serialTime)"
   ]
  },
  {
   "cell_type": "markdown",
   "metadata": {},
   "source": [
    "# Generating results\n",
    "For all values from 5 to 500 by steps of 5 (so 5, 10, 15, 20, etc.) we call the function above to get the average time for sequential versus parallel processing. These results are written to a file, which can be analyzed or plotted externally."
   ]
  },
  {
   "cell_type": "code",
   "execution_count": 5,
   "metadata": {
    "collapsed": true
   },
   "outputs": [],
   "source": [
    "#generates all results from 5 to 500 by steps of 5\n",
    "def generateResults():\n",
    "    current=0\n",
    "    f=open(\"Results.csv\",'w')\n",
    "    f.write(\"n,Sequential (mean), Sequential (std), Parallel (mean), Parallel (std)\\n\")\n",
    "    while current<500:\n",
    "        runExperiments(current)\n",
    "        f.write(str(current)+\",\"+str(serialTimeAve[current])+\",\"+str(serialVar[current])+\",\"+str(parTimeAve[current])+\",\"+str(parVar[current])+\"\\n\")\n",
    "        current+=5\n",
    "        print \".\",\n",
    "        if current%100==0:\n",
    "            print \"\\n\"\n",
    "    f.close()"
   ]
  },
  {
   "cell_type": "code",
   "execution_count": 6,
   "metadata": {
    "collapsed": false
   },
   "outputs": [
    {
     "name": "stdout",
     "output_type": "stream",
     "text": [
      ". . . . . . . . . . . . . . . . . . . . \n",
      "\n",
      ". . . . . . . . . . . . . . . . . . . . \n",
      "\n",
      ". . . . . . . . . . . . . . . . . . . . \n",
      "\n",
      ". . . . . . . . . . . . . . . . . . . . \n",
      "\n",
      ". . . . . . . . . . . . . . . . . . . . \n",
      "\n"
     ]
    }
   ],
   "source": [
    "generateResults()"
   ]
  },
  {
   "cell_type": "code",
   "execution_count": null,
   "metadata": {
    "collapsed": true
   },
   "outputs": [],
   "source": []
  }
 ],
 "metadata": {
  "anaconda-cloud": {},
  "kernelspec": {
   "display_name": "Python 2",
   "language": "python",
   "name": "python2"
  },
  "language_info": {
   "codemirror_mode": {
    "name": "ipython",
    "version": 2
   },
   "file_extension": ".py",
   "mimetype": "text/x-python",
   "name": "python",
   "nbconvert_exporter": "python",
   "pygments_lexer": "ipython2",
   "version": "2.7.11"
  }
 },
 "nbformat": 4,
 "nbformat_minor": 0
}
